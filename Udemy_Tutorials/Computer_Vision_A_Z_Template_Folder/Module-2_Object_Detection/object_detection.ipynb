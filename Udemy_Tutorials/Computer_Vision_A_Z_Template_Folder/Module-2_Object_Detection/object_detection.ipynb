{
 "cells": [
  {
   "cell_type": "markdown",
   "metadata": {},
   "source": [
    "### Importing the libraries\n",
    "\n",
    "- **`torch`** is by far the best weapon to build neural network and computer vision because pytorch contains the dynamic graphs which we are able to compute very efficiently the gradients of composition functions in backward propagation. \n",
    "- **`autograd`** is the module responsible for gradient descent. We are import the caiable class which will be used to convert the tensors into some torch variables that will contain both the tensor and a gradient and then the torch variable containing the tensor in the gradients will be on element of the graph.\n",
    "- **`data`** is a folder that contains the classes `BaseTransform` and `VOC_CLASSES`: \n",
    "    - `BaseTransform` is a class that will do the required transformations so that the input images will be compatible with the neural network. (When we eed the neural network with the input images, they have to have a certain format and `BaseTransform` will be used to transform the images in this format so that they can be accepted into the neural network)\n",
    "    - `VOC_CLASSES` is a dictionary that will do the encoding of the classes, (for example: planes will be encoded as one) which is the idea of doing a mapping because we want to work with numbers and not text.\n",
    "- **`SSD`** is the library of the single shot multi-box action model and then `build_ssd` as that we import from the `SSD` library will be the constructor the architecture of single shot (not box detection) of the SSD neural network.\n",
    "- **`imageio`** is the library that we will use to process the images of the video and applying the detect function that will implement on the images."
   ]
  },
  {
   "cell_type": "code",
   "execution_count": 2,
   "metadata": {},
   "outputs": [],
   "source": [
    "import torch\n",
    "from torch.autograd import Variable\n",
    "import cv2\n",
    "from data import BaseTransform, VOC_CLASSES as labelmap\n",
    "from ssd import build_ssd\n",
    "import imageio\n",
    "imageio.plugins.ffmpeg.download()"
   ]
  },
  {
   "cell_type": "markdown",
   "metadata": {},
   "source": [
    "### Doing single-shot multi-box detection through deep learning instead of OpenCV\n",
    "\n",
    "- The function will be working frame by frame. Instead of doing directly on the video, it will do on each single image.\n",
    "- Using tricks from `imageio` to extract images from the video and implement interesting functions.\n",
    "- Reassemble the whole thing to make the video with the rectangles indicating detections."
   ]
  },
  {
   "cell_type": "markdown",
   "metadata": {},
   "source": [
    "now we are going to do several transformations to go from the original image to a torch variable that will be accepted into the SSD neural network. There is a series of transformations to do before getting to this torch variable.\n",
    "1. apply the transform transformation to make sure that the image has the \n",
    "    - right format, \n",
    "    - right dimensions \n",
    "    - right colour values\n",
    "2. once done this transformation, we need to conver this tranformed frame from a **numpy array** to a **torch tensor** (a tensor is a more advanced matrix)\n",
    "3. add a fake dimension to the troch sensor and that fake dimension will correspond to the batch\n",
    "4. convert into a torch variable that contains both the tensor and the gradient. (The torch variable will be an element of the dynamic graph which will allow us later to do fast adn efficient computation of the gradients during backward propogation)"
   ]
  },
  {
   "cell_type": "code",
   "execution_count": null,
   "metadata": {},
   "outputs": [],
   "source": [
    "# Defining a function that will do the detections\n",
    "# net is the neural network\n",
    "# transform makes sure image compatible with the neural network\n",
    "def detect(frame, net, transform):\n",
    "    height, width = frame.shape[:2]\n",
    "    "
   ]
  }
 ],
 "metadata": {
  "kernelspec": {
   "display_name": "Python 3",
   "language": "python",
   "name": "python3"
  },
  "language_info": {
   "codemirror_mode": {
    "name": "ipython",
    "version": 3
   },
   "file_extension": ".py",
   "mimetype": "text/x-python",
   "name": "python",
   "nbconvert_exporter": "python",
   "pygments_lexer": "ipython3",
   "version": "3.5.2"
  }
 },
 "nbformat": 4,
 "nbformat_minor": 2
}
