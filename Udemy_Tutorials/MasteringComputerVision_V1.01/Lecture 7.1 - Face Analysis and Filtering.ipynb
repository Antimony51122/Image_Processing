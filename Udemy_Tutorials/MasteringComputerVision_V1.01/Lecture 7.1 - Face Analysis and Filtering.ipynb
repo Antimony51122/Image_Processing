{
 "cells": [
  {
   "cell_type": "markdown",
   "metadata": {},
   "source": [
    "## Facial Landmarks"
   ]
  },
  {
   "cell_type": "markdown",
   "metadata": {},
   "source": [
    "See blog post here - https://matthewearl.github.io/2015/07/28/switching-eds-with-python/\n",
    "\n",
    "\n",
    "#### Install Instructions for dlib\n",
    "\n",
    "- Download and Install Dlib\n",
    "\n",
    "https://sourceforge.net/projects/dclib/\n",
    "\n",
    "- Extract files in C:/dlib \n",
    "- Use command prompt to Cd to folder and run “python setup.py install”\n",
    "\n",
    "#### Download the pre-trained model here \n",
    "\n",
    "http://dlib.net/files/shape_predictor_68_face_landmarks.dat.bz2\n",
    "\n",
    "- Place this file in your default ipython notebook folder"
   ]
  },
  {
   "cell_type": "markdown",
   "metadata": {},
   "source": [
    "What actually makes these swaps is getting the images to line. In order to do this quickly, we need python algorithms to identify these key features landmarks. \n",
    "\n",
    "1. Identifying Facial Features\n",
    "2. Warping the image to fit the new and different facial expression\n",
    "3. Colour Matching (face lighting)\n",
    "4. Creating seamless borders on the edges of the new swapped face"
   ]
  },
  {
   "cell_type": "code",
   "execution_count": 1,
   "metadata": {},
   "outputs": [],
   "source": [
    "import cv2\n",
    "import dlib\n",
    "import numpy "
   ]
  },
  {
   "cell_type": "markdown",
   "metadata": {},
   "source": [
    "This landmark detection gives us 68 feature key points of landmarks.\n",
    "\n",
    "<img src='./images/obama_68_dlib.png'>\n",
    "\n",
    "**Facial Landmarks Number Order**:\n",
    "- `MOUTH_POINTS` = 48 to 61\n",
    "- `RIGHT_BROW_POINTS` = 17 to 21\n",
    "- `LEFT_BROW_POINTS` = 22 to 27\n",
    "- `RIGHT_EYE_POINTS` = 36 to 42\n",
    "- `LEFT_EYE_POINTS` = 42 to 48\n",
    "- `NOSE_POINTS` = 27 to 35\n",
    "- `JAW_POINTS` = 0 to 17"
   ]
  },
  {
   "cell_type": "code",
   "execution_count": 2,
   "metadata": {},
   "outputs": [],
   "source": [
    "PREDICTOR_PATH = \"shape_predictor_68_face_landmarks.dat\"\n",
    "predictor = dlib.shape_predictor(PREDICTOR_PATH)\n",
    "detector = dlib.get_frontal_face_detector()"
   ]
  },
  {
   "cell_type": "code",
   "execution_count": null,
   "metadata": {},
   "outputs": [],
   "source": [
    "class TooManyFaces(Exception):\n",
    "    pass\n",
    "\n",
    "class NoFaces(Exception):\n",
    "    pass\n",
    "\n",
    "def get_landmarks(im):\n",
    "    # rects is basically an array where we have faces that have been detected, it's a boundary rectangle of the face\n",
    "    # im = im[:, :, :3].copy()\n",
    "    rects = detector(im, 1)\n",
    "\n",
    "    if len(rects) > 1:\n",
    "        raise TooManyFaces\n",
    "    if len(rects) == 0:\n",
    "        raise NoFaces\n",
    "\n",
    "    return numpy.matrix([[p.x, p.y] for p in predictor(im, rects[0]).parts()])\n",
    "\n",
    "# plot the numbers onto the face\n",
    "def annotate_landmarks(im, landmarks):\n",
    "    im = im.copy()\n",
    "    # im = im[:, :, :3].copy()\n",
    "    for idx, point in enumerate(landmarks):\n",
    "        pos = (point[0, 0], point[0, 1])\n",
    "        cv2.putText(im, str(idx), pos,\n",
    "                    fontFace=cv2.FONT_HERSHEY_SCRIPT_SIMPLEX,\n",
    "                    fontScale=0.4,\n",
    "                    color=(0, 0, 255))\n",
    "        cv2.circle(im, pos, 3, color=(0, 255, 255))\n",
    "    return im\n",
    "\n",
    "image = cv2.imread('./images/Obama.jpg')\n",
    "landmarks = get_landmarks(image)\n",
    "image_with_landmarks = annotate_landmarks(image, landmarks)\n",
    "\n",
    "cv2.imshow('Result', image_with_landmarks)\n",
    "cv2.imwrite('image_with_landmarks.jpg',image_with_landmarks)\n",
    "cv2.waitKey(0)\n",
    "cv2.destroyAllWindows()"
   ]
  },
  {
   "cell_type": "markdown",
   "metadata": {},
   "source": [
    "<img src=\"./images/Obama_with_landmarks.jpg\">"
   ]
  }
 ],
 "metadata": {
  "kernelspec": {
   "display_name": "Python 3",
   "language": "python",
   "name": "python3"
  },
  "language_info": {
   "codemirror_mode": {
    "name": "ipython",
    "version": 3
   },
   "file_extension": ".py",
   "mimetype": "text/x-python",
   "name": "python",
   "nbconvert_exporter": "python",
   "pygments_lexer": "ipython3",
   "version": "3.5.2"
  }
 },
 "nbformat": 4,
 "nbformat_minor": 2
}
