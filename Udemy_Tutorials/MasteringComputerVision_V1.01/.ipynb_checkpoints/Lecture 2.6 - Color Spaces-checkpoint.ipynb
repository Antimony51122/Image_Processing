{
 "cells": [
  {
   "cell_type": "markdown",
   "metadata": {},
   "source": [
    "## Let's take a closer look at color spaces\n",
    "\n",
    "You may have remembered we talked about images being stored in RGB (Red Green Blue) color Spaces. Let's take a look at that in OpenCV.\n"
   ]
  },
  {
   "cell_type": "markdown",
   "metadata": {},
   "source": [
    "### First thing to remember about OpenCV's RGB is that it's BGR (I know, this is annoying)\n",
    "\n",
    "> OpenCV use RGB colour spaces but the actual order in array is BGR, the reason has to do with how computers store memory\n",
    "\n",
    "Let's look at the image shape again. The '3L' "
   ]
  },
  {
   "cell_type": "code",
   "execution_count": 1,
   "metadata": {
    "collapsed": true
   },
   "outputs": [],
   "source": [
    "import cv2\n",
    "import numpy as np"
   ]
  },
  {
   "cell_type": "code",
   "execution_count": 2,
   "metadata": {
    "collapsed": true
   },
   "outputs": [],
   "source": [
    "image = cv2.imread('./images/input.jpg')"
   ]
  },
  {
   "cell_type": "markdown",
   "metadata": {},
   "source": [
    "### Let's look at the individual color levels for the first pixel (0,0)"
   ]
  },
  {
   "cell_type": "code",
   "execution_count": 3,
   "metadata": {},
   "outputs": [
    {
     "name": "stdout",
     "output_type": "stream",
     "text": [
      "13 19 32\n",
      "(830, 1245, 3)\n"
     ]
    }
   ],
   "source": [
    "# BGR Values for the first 0,0 pixel\n",
    "B, G, R = image[10, 50] \n",
    "print(B, G, R)\n",
    "print(image.shape)"
   ]
  },
  {
   "cell_type": "markdown",
   "metadata": {},
   "source": [
    "Let's see what happens when we convert it to grayscale"
   ]
  },
  {
   "cell_type": "code",
   "execution_count": 4,
   "metadata": {},
   "outputs": [
    {
     "name": "stdout",
     "output_type": "stream",
     "text": [
      "(830, 1245)\n",
      "22\n"
     ]
    }
   ],
   "source": [
    "gray_img = cv2.cvtColor(image, cv2.COLOR_BGR2GRAY)\n",
    "print(gray_img.shape)\n",
    "print(gray_img[10, 50]) "
   ]
  },
  {
   "cell_type": "markdown",
   "metadata": {},
   "source": [
    "> store an image in grayscale, we are essentially converting it into two dimensional array"
   ]
  },
  {
   "cell_type": "markdown",
   "metadata": {},
   "source": [
    "It's now only 2 dimensions. Each pixel coordinate has only one value (previously 3) with a range of 0 to 255"
   ]
  },
  {
   "cell_type": "code",
   "execution_count": 5,
   "metadata": {},
   "outputs": [
    {
     "data": {
      "text/plain": [
       "21"
      ]
     },
     "execution_count": 5,
     "metadata": {},
     "output_type": "execute_result"
    }
   ],
   "source": [
    "gray_img[0, 0] "
   ]
  },
  {
   "cell_type": "markdown",
   "metadata": {},
   "source": [
    "### Another useful color space is HSV \n",
    "Infact HSV is very useful in color filtering.\n",
    "\n",
    "range\n",
    "- H: 0 - 180, \n",
    "- S: 0 - 255, \n",
    "- V: 0 - 255"
   ]
  },
  {
   "cell_type": "code",
   "execution_count": 6,
   "metadata": {
    "collapsed": true
   },
   "outputs": [],
   "source": [
    "image = cv2.imread('./images/input.jpg')\n",
    "hsv_image = cv2.cvtColor(image, cv2.COLOR_BGR2HSV)"
   ]
  },
  {
   "cell_type": "markdown",
   "metadata": {},
   "source": [
    "> **Note**: `imshow()` only works with `waitKey()`:"
   ]
  },
  {
   "cell_type": "code",
   "execution_count": 11,
   "metadata": {
    "collapsed": true
   },
   "outputs": [],
   "source": [
    "cv2.imshow('HSV image', hsv_image)\n",
    "cv2.imwrite('./images/output_hsv.jpg', hsv_image)\n",
    "\n",
    "cv2.imshow('Hue channel', hsv_image[:, :, 0])  # 0 index indicates only hue channel here\n",
    "cv2.imwrite('./images/output_hue.jpg', hsv_image[:, :, 0])\n",
    "\n",
    "cv2.imshow('Saturation channel', hsv_image[:, :, 1])  # 0 index indicates only saturation channel here\n",
    "cv2.imwrite('./images/output_sat.jpg', hsv_image[:, :, 1])\n",
    "\n",
    "cv2.imshow('Value channel', hsv_image[:, :, 2])  # 0 index indicates only value channel here\n",
    "cv2.imwrite('./images/output_val.jpg', hsv_image[:, :, 2])\n",
    "\n",
    "cv2.waitKey()\n",
    "cv2.destroyAllWindows()"
   ]
  },
  {
   "cell_type": "markdown",
   "metadata": {},
   "source": [
    "<tr>\n",
    "    <td> <img src='./images/output_hsv.jpg' /> </td>\n",
    "    <td> <img src='./images/output_hue.jpg' /> </td>\n",
    "    <td> <img src='./images/output_sat.jpg' /> </td>\n",
    "    <td> <img src='./images/output_val.jpg' /> </td>\n",
    "</tr>"
   ]
  },
  {
   "cell_type": "markdown",
   "metadata": {},
   "source": [
    "> - The hue channel is quite dark because it only goes from 0 to 180\n",
    "> - One Important thing need to remember is that the HSV image displays as RGB, it doesn't show the real HSV"
   ]
  },
  {
   "cell_type": "markdown",
   "metadata": {},
   "source": [
    "### Let's now explore lookng at individual channels in an RGB image"
   ]
  },
  {
   "cell_type": "code",
   "execution_count": 12,
   "metadata": {},
   "outputs": [
    {
     "name": "stdout",
     "output_type": "stream",
     "text": [
      "(830, 1245)\n"
     ]
    }
   ],
   "source": [
    "image = cv2.imread('./images/input.jpg')\n",
    "\n",
    "# OpenCV's 'split' function splites the image into each color index\n",
    "B, G, R = cv2.split(image)\n",
    "\n",
    "print(B.shape)"
   ]
  },
  {
   "cell_type": "code",
   "execution_count": 13,
   "metadata": {
    "collapsed": true
   },
   "outputs": [],
   "source": [
    "cv2.imshow(\"Red\", R)\n",
    "cv2.imwrite('./images/output_R.jpg', R)\n",
    "\n",
    "cv2.imshow(\"Green\", G)\n",
    "cv2.imwrite('./images/output_G.jpg', G)\n",
    "\n",
    "cv2.imshow(\"Blue\", B)\n",
    "cv2.imwrite('./images/output_B.jpg', B)\n",
    "\n",
    "cv2.waitKey(0)\n",
    "cv2.destroyAllWindows()"
   ]
  },
  {
   "cell_type": "markdown",
   "metadata": {},
   "source": [
    "<tr>\n",
    "    <td> <img src='./images/output_R.jpg' /> </td>\n",
    "    <td> <img src='./images/output_G.jpg' /> </td>\n",
    "    <td> <img src='./images/output_B.jpg' /> </td>\n",
    "</tr>"
   ]
  },
  {
   "cell_type": "markdown",
   "metadata": {},
   "source": [
    "> **Note**: mind that RGB channel are each shown in two dimention thus in a gray scale"
   ]
  },
  {
   "cell_type": "code",
   "execution_count": 14,
   "metadata": {
    "collapsed": true
   },
   "outputs": [],
   "source": [
    "# Let's re-make the original image, \n",
    "merged = cv2.merge([B, G, R]) \n",
    "cv2.imshow(\"Merged\", merged)\n",
    "cv2.imwrite('./images/output_merged.jpg', merged)\n",
    "\n",
    "# Let's amplify the blue color\n",
    "merged_B100 = cv2.merge([B+100, G, R])\n",
    "cv2.imshow(\"Merged with Blue Amplified\", merged_B100) \n",
    "cv2.imwrite('./images/output_mergedBlueAmp.jpg', merged_B100)\n",
    "\n",
    "cv2.waitKey(0)\n",
    "cv2.destroyAllWindows()"
   ]
  },
  {
   "cell_type": "markdown",
   "metadata": {},
   "source": [
    "<tr>\n",
    "    <td> <img src='./images/output_merged.jpg' /> </td>\n",
    "    <td> <img src='./images/output_mergedBlueAmp.jpg' /> </td>\n",
    "</tr>"
   ]
  },
  {
   "cell_type": "code",
   "execution_count": 4,
   "metadata": {},
   "outputs": [],
   "source": [
    "B, G, R = cv2.split(image)\n",
    "\n",
    "# Let's create a matrix of zeros \n",
    "# with dimensions of the image h x w  \n",
    "zeros = np.zeros(image.shape[:2], dtype = \"uint8\")\n",
    "\n",
    "mergeRed = cv2.merge([zeros, zeros, R])\n",
    "cv2.imshow(\"Red\", mergeRed)\n",
    "cv2.imwrite('./images/output_redWithZeros.jpg', mergeRed)\n",
    "\n",
    "mergeGreen = cv2.merge([zeros, G, zeros])\n",
    "cv2.imshow(\"Green\", mergeGreen)\n",
    "cv2.imwrite('./images/output_greenWithZeros.jpg', mergeGreen)\n",
    "\n",
    "mergeBlue = cv2.merge([B, zeros, zeros])\n",
    "cv2.imshow(\"Blue\", mergeBlue)\n",
    "cv2.imwrite('./images/output_blueWithZeros.jpg', mergeBlue)\n",
    "\n",
    "cv2.waitKey(0)\n",
    "cv2.destroyAllWindows()"
   ]
  },
  {
   "cell_type": "markdown",
   "metadata": {},
   "source": [
    "<tr>\n",
    "    <td> <img src='./images/output_redWithZeros.jpg' /> </td>\n",
    "    <td> <img src='./images/output_greenWithZeros.jpg' /> </td>\n",
    "    <td> <img src='./images/output_blueWithZeros.jpg' /> </td>\n",
    "</tr>"
   ]
  },
  {
   "cell_type": "code",
   "execution_count": 5,
   "metadata": {},
   "outputs": [
    {
     "data": {
      "text/plain": [
       "(830, 1245)"
      ]
     },
     "execution_count": 5,
     "metadata": {},
     "output_type": "execute_result"
    }
   ],
   "source": [
    "image.shape[:2]"
   ]
  },
  {
   "cell_type": "markdown",
   "metadata": {},
   "source": [
    "#### You can view a list of color converisons here, but keep in mind you won't ever use or need many of these\n",
    "\n",
    "http://docs.opencv.org/trunk/d7/d1b/group__imgproc__misc.html#ga4e0972be5de079fed4e3a10e24ef5ef0"
   ]
  }
 ],
 "metadata": {
  "kernelspec": {
   "display_name": "Python 3",
   "language": "python",
   "name": "python3"
  },
  "language_info": {
   "codemirror_mode": {
    "name": "ipython",
    "version": 3
   },
   "file_extension": ".py",
   "mimetype": "text/x-python",
   "name": "python",
   "nbconvert_exporter": "python",
   "pygments_lexer": "ipython3",
   "version": "3.6.1"
  }
 },
 "nbformat": 4,
 "nbformat_minor": 1
}
