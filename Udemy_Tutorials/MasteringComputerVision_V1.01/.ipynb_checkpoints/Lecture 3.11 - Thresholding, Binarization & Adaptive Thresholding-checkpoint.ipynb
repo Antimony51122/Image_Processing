{
 "cells": [
  {
   "cell_type": "markdown",
   "metadata": {},
   "source": [
    "## Thresholding, Binarization & Adaptive Thresholding\n",
    "\n",
    "\n",
    "In thresholding, we convert a grey scale image to it's binary form"
   ]
  },
  {
   "cell_type": "code",
   "execution_count": 2,
   "metadata": {
    "collapsed": true
   },
   "outputs": [],
   "source": [
    "import cv2\n",
    "import numpy as np"
   ]
  },
  {
   "cell_type": "code",
   "execution_count": null,
   "metadata": {
    "collapsed": true
   },
   "outputs": [],
   "source": [
    "# Load our image as greyscale \n",
    "image = cv2.imread('images/gradient.jpg',0)\n",
    "cv2.imshow('Original', image)\n",
    "\n",
    "# Values below 127 goes to 0 (black, everything above goes to 255 (white)\n",
    "ret, thresh1 = cv2.threshold(image, 127, 255, cv2.THRESH_BINARY)\n",
    "cv2.imshow('1 Threshold Binary', thresh1)\n",
    "cv2.imwrite('images/thresh_bin.jpg', thresh1)\n",
    "\n",
    "# Values below 127 go to 255 and values above 127 go to 0 (reverse of above)\n",
    "ret, thresh2 = cv2.threshold(image, 127, 255, cv2.THRESH_BINARY_INV)\n",
    "cv2.imshow('2 Threshold Binary Inverse', thresh2)\n",
    "cv2.imwrite('images/thresh_bin_inv.jpg', thresh2)\n",
    "\n",
    "# Values above 127 are truncated (held) at 127 (the 255 argument is unused)\n",
    "ret, thresh3 = cv2.threshold(image, 127, 255, cv2.THRESH_TRUNC)\n",
    "cv2.imshow('3 THRESH TRUNC', thresh3)\n",
    "cv2.imwrite('images/thresh_trunc.jpg', thresh3)\n",
    "\n",
    "# Values below 127 go to 0, above 127 are unchanged  \n",
    "ret, thresh4 = cv2.threshold(image, 127, 255, cv2.THRESH_TOZERO)\n",
    "cv2.imshow('4 THRESH TOZERO', thresh4)\n",
    "cv2.imwrite('images/thresh_tozero.jpg', thresh4)\n",
    "\n",
    "# Resever of above, below 127 is unchanged, above 127 goes to 0\n",
    "ret, thresh5 = cv2.threshold(image, 127, 255, cv2.THRESH_TOZERO_INV)\n",
    "cv2.imshow('5 THRESH TOZERO INV', thresh5)\n",
    "cv2.imwrite('images/thresh_tozero_inv.jpg', thresh5)\n",
    "\n",
    "cv2.waitKey(0) \n",
    "    \n",
    "cv2.destroyAllWindows()"
   ]
  },
  {
   "cell_type": "markdown",
   "metadata": {},
   "source": [
    "Original | Threshold Binary | Threshold Binary Inverse\n",
    "- | - | -\n",
    "![alt](images/gradient.jpg) | ![alt](images/thresh_bin.jpg) | ![alt](images/thresh_bin_inv.jpg)"
   ]
  },
  {
   "cell_type": "markdown",
   "metadata": {},
   "source": [
    "THRESH TRUNC | THRESH TOZERO | THRESH TOZERO INV\n",
    "- | - | -\n",
    "![alt](images/thresh_trunc.jpg) | ![alt](images/thresh_tozero.jpg) | ![alt](images/thresh_tozero_inv.jpg)"
   ]
  },
  {
   "cell_type": "markdown",
   "metadata": {},
   "source": [
    "> A weakness of these threshold algorithms above is that they all requires thresh value set at 127 or anything viable. That's not that convenient when you are actually doing it with scanned documents. Better way of doing so is adaptive thresholding."
   ]
  },
  {
   "cell_type": "code",
   "execution_count": null,
   "metadata": {
    "collapsed": true
   },
   "outputs": [],
   "source": [
    "# from IPython.display import HTML, display\n",
    "# display(HTML(\n",
    "#     \"<table>\n",
    "#         <tr>\n",
    "#             <td><img src='images/gradient.jpg'></td>\n",
    "#             <td><img src='images/thresh_bin.jpg'></td>\n",
    "#             <td><img src='images/thresh_bin_inv.jpg'></td>\n",
    "#             <td><img src='images/thresh_trunc.jpg'></td>\n",
    "#             <td><img src='images/thresh_tozero.jpg'></td>\n",
    "#             <td><img src='images/thresh_tozero_inv.jpg'></td>\n",
    "#         </tr>\n",
    "#     </table>\"\n",
    "# ))"
   ]
  },
  {
   "cell_type": "markdown",
   "metadata": {},
   "source": [
    "### Is there a better way off thresholding?\n",
    "\n",
    "The biggest downfall of those simple threshold methods is that we need to provide the threshold value (i.e. the 127 value we used previously).\n",
    "#### What if there was a smarter way of doing this?\n",
    "\n",
    "There is with, Adaptive thresholding. \n",
    "\n"
   ]
  },
  {
   "cell_type": "code",
   "execution_count": 1,
   "metadata": {
    "collapsed": true
   },
   "outputs": [],
   "source": [
    "import cv2\n",
    "import numpy as np"
   ]
  },
  {
   "cell_type": "code",
   "execution_count": 2,
   "metadata": {},
   "outputs": [
    {
     "data": {
      "text/plain": [
       "-1"
      ]
     },
     "execution_count": 2,
     "metadata": {},
     "output_type": "execute_result"
    }
   ],
   "source": [
    "# Load our new image\n",
    "image = cv2.imread('images/Origin_of_Species.jpg', 0)\n",
    "\n",
    "cv2.imshow('Original', image)\n",
    "cv2.waitKey(0) "
   ]
  },
  {
   "cell_type": "markdown",
   "metadata": {},
   "source": [
    "<img src=\"images/Origin_of_Species.jpg\">"
   ]
  },
  {
   "cell_type": "code",
   "execution_count": 4,
   "metadata": {},
   "outputs": [
    {
     "data": {
      "text/plain": [
       "True"
      ]
     },
     "execution_count": 4,
     "metadata": {},
     "output_type": "execute_result"
    }
   ],
   "source": [
    "# Values below 127 goes to 0 (black, everything above goes to 255 (white)\n",
    "ret,thresh1 = cv2.threshold(image, 127, 255, cv2.THRESH_BINARY)\n",
    "cv2.imshow('Threshold Binary', thresh1)\n",
    "cv2.waitKey(0)\n",
    "cv2.imwrite('images/Origin_of_Species_thresh_bin.jpg', thresh1)"
   ]
  },
  {
   "cell_type": "code",
   "execution_count": 7,
   "metadata": {
    "collapsed": true
   },
   "outputs": [],
   "source": [
    "# It's good practice to blur images as it removes noise\n",
    "image = cv2.GaussianBlur(image, (3, 3), 0)\n",
    "\n",
    "# Using adaptiveThreshold\n",
    "# cv2.adaptiveThreshold(image, Max Value, Adaptive Type, Threshold Type, Block size(must be odd), Constant subtracted from mean)\n",
    "thresh = cv2.adaptiveThreshold(image, 255, cv2.ADAPTIVE_THRESH_MEAN_C, cv2.THRESH_BINARY, 3, 5) \n",
    "cv2.imshow(\"Adaptive Mean Thresholding\", thresh) \n",
    "cv2.waitKey(0)\n",
    "cv2.imwrite('images/Origin_of_Species_thresh_adaptive_mean.jpg', thresh)\n",
    "\n",
    "_, th2 = cv2.threshold(image, 0, 255, cv2.THRESH_BINARY + cv2.THRESH_OTSU)\n",
    "cv2.imshow(\"Otsu's Thresholding\", th2) \n",
    "cv2.waitKey(0)\n",
    "cv2.imwrite('images/Origin_of_Species_thresh_otsu.jpg', th2)\n",
    "\n",
    "# Otsu's thresholding after Gaussian filtering\n",
    "blur = cv2.GaussianBlur(image, (5,5), 0)\n",
    "_, th3 = cv2.threshold(blur, 0, 255, cv2.THRESH_BINARY + cv2.THRESH_OTSU)\n",
    "cv2.imshow(\"Guassian Otsu's Thresholding\", th3) \n",
    "cv2.waitKey(0)\n",
    "cv2.imwrite('images/Origin_of_Species_thresh_otsu_gaussian.jpg', th3)\n",
    "\n",
    "cv2.destroyAllWindows()"
   ]
  },
  {
   "cell_type": "markdown",
   "metadata": {},
   "source": [
    "Threshold Binary | Adaptive Mean Thresholding \n",
    "- | - \n",
    "![alt](images/Origin_of_Species_thresh_bin.jpg) | ![alt](images/Origin_of_Species_thresh_adaptive_mean.jpg) "
   ]
  },
  {
   "cell_type": "markdown",
   "metadata": {},
   "source": [
    "Otsu's Thresholding | Guassian Otsu's Thresholding\n",
    "- | -\n",
    "![alt](images/Origin_of_Species_thresh_otsu.jpg) | ![alt](images/Origin_of_Species_thresh_otsu_gaussian.jpg)"
   ]
  },
  {
   "cell_type": "markdown",
   "metadata": {},
   "source": [
    "### Comparision between Binary Thresholding with Adaptive Thresholding"
   ]
  },
  {
   "cell_type": "markdown",
   "metadata": {},
   "source": [
    "#### Threshold Binary:\n",
    "<img src='images/Origin_of_Species_thresh_bin.jpg'>"
   ]
  },
  {
   "cell_type": "markdown",
   "metadata": {},
   "source": [
    "#### Threshold Adaptive:\n",
    "<img src='images/Origin_of_Species_thresh_adaptive_mean.jpg'>"
   ]
  },
  {
   "cell_type": "markdown",
   "metadata": {
    "collapsed": true
   },
   "source": [
    "> Comparing the binary threshold with the adaptive threshold, we can clearly see the text is a lot more clear. Adaptive thresholding has a big advantage in that it reduces the uncertainty in setting a threshold value"
   ]
  },
  {
   "cell_type": "code",
   "execution_count": 3,
   "metadata": {},
   "outputs": [
    {
     "data": {
      "text/plain": [
       "-1"
      ]
     },
     "execution_count": 3,
     "metadata": {},
     "output_type": "execute_result"
    }
   ],
   "source": [
    "# Load our new image\n",
    "image_sketch = cv2.imread('images/industrial_design_sketch.jpg')\n",
    "cv2.imshow('Original', image_sketch)\n",
    "cv2.waitKey(0) "
   ]
  },
  {
   "cell_type": "code",
   "execution_count": 6,
   "metadata": {},
   "outputs": [
    {
     "data": {
      "text/plain": [
       "True"
      ]
     },
     "execution_count": 6,
     "metadata": {},
     "output_type": "execute_result"
    }
   ],
   "source": [
    "image_sketch_0 = cv2.imread('images/industrial_design_sketch.jpg', 0)\n",
    "\n",
    "ret_sketch, thresh_sketch = cv2.threshold(image_sketch_0, 127, 255, cv2.THRESH_BINARY)\n",
    "cv2.imshow('Threshold Binary', thresh_sketch)\n",
    "cv2.waitKey(0)\n",
    "cv2.imwrite('images/industrial_design_sketch_thresh_bin.jpg', thresh_sketch)"
   ]
  },
  {
   "cell_type": "code",
   "execution_count": 9,
   "metadata": {},
   "outputs": [
    {
     "data": {
      "text/plain": [
       "True"
      ]
     },
     "execution_count": 9,
     "metadata": {},
     "output_type": "execute_result"
    }
   ],
   "source": [
    "# It's good practice to blur images as it removes noise\n",
    "image_sketch_0 = cv2.GaussianBlur(image_sketch_0, (3, 3), 0)\n",
    "\n",
    "# Using adaptiveThreshold\n",
    "# cv2.adaptiveThreshold(image, Max Value, Adaptive Type, Threshold Type, Block size(must be odd), Constant subtracted from mean)\n",
    "thresh_sketch_adptive = cv2.adaptiveThreshold(image_sketch_0, 255, cv2.ADAPTIVE_THRESH_MEAN_C, cv2.THRESH_BINARY, 3, 1) \n",
    "cv2.imshow(\"Adaptive Mean Thresholding\", thresh_sketch_adptive) \n",
    "cv2.waitKey(0)\n",
    "cv2.imwrite('images/industrial_design_sketch_thresh_adaptive_mean.jpg', thresh_sketch_adptive)"
   ]
  },
  {
   "cell_type": "code",
   "execution_count": 10,
   "metadata": {},
   "outputs": [
    {
     "data": {
      "text/plain": [
       "True"
      ]
     },
     "execution_count": 10,
     "metadata": {},
     "output_type": "execute_result"
    }
   ],
   "source": [
    "_, th_otsu = cv2.threshold(image_sketch_0, 0, 255, cv2.THRESH_BINARY + cv2.THRESH_OTSU)\n",
    "cv2.imshow(\"Otsu's Thresholding\", th_otsu) \n",
    "cv2.waitKey(0)\n",
    "cv2.imwrite('images/industrial_design_sketch_thresh_otsu.jpg', th_otsu)"
   ]
  },
  {
   "cell_type": "code",
   "execution_count": 11,
   "metadata": {
    "collapsed": true
   },
   "outputs": [],
   "source": [
    "# Otsu's thresholding after Gaussian filtering\n",
    "sketch_blur = cv2.GaussianBlur(image_sketch_0, (5,5), 0)\n",
    "_, th_otsu_gauss = cv2.threshold(sketch_blur, 0, 255, cv2.THRESH_BINARY + cv2.THRESH_OTSU)\n",
    "cv2.imshow(\"Guassian Otsu's Thresholding\", th_otsu_gauss) \n",
    "cv2.waitKey(0)\n",
    "cv2.imwrite('images/industrial_design_sketchs_thresh_otsu_gaussian.jpg', th_otsu_gauss)\n",
    "\n",
    "cv2.destroyAllWindows()"
   ]
  },
  {
   "cell_type": "markdown",
   "metadata": {},
   "source": [
    "Initial Sketch | \n",
    "- | -\n",
    "![alt](images/industrial_design_sketch.jpg) | \n",
    "\n",
    "Sketch Threshold Binary | Sketch Adaptive Mean Thresholding\n",
    "- | -\n",
    "![alt](images/industrial_design_sketch_thresh_bin.jpg) | ![alt](images/industrial_design_sketch_thresh_adaptive_mean.jpg)\n",
    "\n",
    "Sketch Otsu's Thresholding | Sketch Guassian Otsu's Thresholding\n",
    "- | -\n",
    "![alt](images/industrial_design_sketch_thresh_adaptive_mean.jpg) | ![alt](images/industrial_design_sketchs_thresh_otsu_gaussian.jpg)"
   ]
  }
 ],
 "metadata": {
  "kernelspec": {
   "display_name": "Python 3",
   "language": "python",
   "name": "python3"
  },
  "language_info": {
   "codemirror_mode": {
    "name": "ipython",
    "version": 3
   },
   "file_extension": ".py",
   "mimetype": "text/x-python",
   "name": "python",
   "nbconvert_exporter": "python",
   "pygments_lexer": "ipython3",
   "version": "3.6.1"
  }
 },
 "nbformat": 4,
 "nbformat_minor": 1
}
