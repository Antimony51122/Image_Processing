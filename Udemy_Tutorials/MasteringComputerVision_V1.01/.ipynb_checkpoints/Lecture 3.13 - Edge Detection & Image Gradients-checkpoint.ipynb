{
 "cells": [
  {
   "cell_type": "markdown",
   "metadata": {},
   "source": [
    "## Edge Detection & Image Gradients\n",
    "\n",
    "**Formal Definition**: ***Edge*** can be defined as sudden changes (discontinuities) in am image and they can encode just as much information as pixels\n",
    "\n",
    "- **Sobel**: to emphasise vertical or horizontal edges\n",
    "- **Laplacian**: gets all orientations\n",
    "- **Canny**: Optimal due to low error rate, well defined edges and accurate detection"
   ]
  },
  {
   "cell_type": "code",
   "execution_count": 1,
   "metadata": {
    "collapsed": true
   },
   "outputs": [],
   "source": [
    "import cv2\n",
    "import numpy as np"
   ]
  },
  {
   "cell_type": "code",
   "execution_count": null,
   "metadata": {
    "collapsed": true
   },
   "outputs": [],
   "source": [
    "image = cv2.imread('images/input.jpg',0)\n",
    "cv2.imshow('Original', image)\n",
    "cv2.waitKey(0)"
   ]
  },
  {
   "cell_type": "markdown",
   "metadata": {},
   "source": [
    "<img src='images/input.jpg'>"
   ]
  },
  {
   "cell_type": "code",
   "execution_count": 4,
   "metadata": {},
   "outputs": [
    {
     "data": {
      "text/plain": [
       "True"
      ]
     },
     "execution_count": 4,
     "metadata": {},
     "output_type": "execute_result"
    }
   ],
   "source": [
    "height, width = image.shape\n",
    "\n",
    "# Extract Sobel Edges\n",
    "sobel_x = cv2.Sobel(image, cv2.CV_64F, 0, 1, ksize=5)\n",
    "sobel_y = cv2.Sobel(image, cv2.CV_64F, 1, 0, ksize=5)\n",
    "\n",
    "cv2.imshow('Sobel X', sobel_x)\n",
    "cv2.waitKey(0)\n",
    "cv2.imwrite('images/output_sobel_x.jpg', sobel_x)\n",
    "\n",
    "cv2.imshow('Sobel Y', sobel_y)\n",
    "cv2.waitKey(0)\n",
    "cv2.imwrite('images/output_sobel_y.jpg', sobel_y)\n",
    "\n",
    "sobel_OR = cv2.bitwise_or(sobel_x, sobel_y)\n",
    "cv2.imshow('sobel_OR', sobel_OR)\n",
    "cv2.waitKey(0)\n",
    "cv2.imwrite('images/output_sobel_OR.jpg', sobel_OR)\n",
    "\n",
    "laplacian = cv2.Laplacian(image, cv2.CV_64F)\n",
    "cv2.imshow('Laplacian', laplacian)\n",
    "cv2.waitKey(0)\n",
    "cv2.imwrite('images/output_laplacian.jpg', laplacian)"
   ]
  },
  {
   "cell_type": "markdown",
   "metadata": {},
   "source": [
    "Sobel X | Sobel Y \n",
    "- | - \n",
    "![alt](images/output_sobel_x.jpg) | ![alt](images/output_sobel_y.jpg)"
   ]
  },
  {
   "cell_type": "markdown",
   "metadata": {},
   "source": [
    "Sobel OR | Laplacian\n",
    "- | - \n",
    "![alt](images/output_sobel_OR.jpg) | ![alt](images/output_laplacian.jpg)"
   ]
  },
  {
   "cell_type": "markdown",
   "metadata": {},
   "source": [
    "#### Canny Edge Detection Algorithm\n",
    "\n",
    "Canny Edge Detection uses gradient values as thresholds, we need to provide two values: threshold1 and threshold2. Any gradient value larger than threshold2 is considered to be an edge. Any value below threshold1 is considered not to be an edge. Values in between threshold1 and threshold2 are either classiﬁed as edges or non-edges based on how their intensities are “connected”. In this case, any gradient values below 60 are considered non-edges whereas any values above 120 are considered edges.\n",
    "\n",
    "1. Applies Gaussian blurring\n",
    "2. Finds intensity gradient of the image\n",
    "3. Applied non-maximum suprression (i.e. removes pixels that are not edges)\n",
    "4. Hysteresis - Applies thresholds (i.e. if pixel is within the upper and lower thresholds, it is considered an edge)"
   ]
  },
  {
   "cell_type": "code",
   "execution_count": 5,
   "metadata": {},
   "outputs": [],
   "source": [
    "# The first threshold gradient\n",
    "canny = cv2.Canny(image, 50, 120)\n",
    "cv2.imshow('Canny', canny)\n",
    "cv2.waitKey(0)\n",
    "cv2.imwrite('images/output_canny.jpg', canny)\n",
    "\n",
    "cv2.destroyAllWindows()"
   ]
  },
  {
   "cell_type": "markdown",
   "metadata": {},
   "source": [
    "<img src='images/output_canny.jpg'>"
   ]
  },
  {
   "cell_type": "markdown",
   "metadata": {},
   "source": [
    "> **Canny** actually disregarded the sky and a lot of excess noise but preserved the edges we wanted to see which is in the structures"
   ]
  }
 ],
 "metadata": {
  "kernelspec": {
   "display_name": "Python 3",
   "language": "python",
   "name": "python3"
  },
  "language_info": {
   "codemirror_mode": {
    "name": "ipython",
    "version": 3
   },
   "file_extension": ".py",
   "mimetype": "text/x-python",
   "name": "python",
   "nbconvert_exporter": "python",
   "pygments_lexer": "ipython3",
   "version": "3.6.1"
  }
 },
 "nbformat": 4,
 "nbformat_minor": 1
}
