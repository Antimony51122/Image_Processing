{
 "cells": [
  {
   "cell_type": "markdown",
   "metadata": {},
   "source": [
    "## Image Pyramids\n",
    "\n",
    "Useful when scaling images in object detection."
   ]
  },
  {
   "cell_type": "markdown",
   "metadata": {},
   "source": [
    "- pyramid down actually converges in this image to an image just half size of 50% the original dimensions \n",
    "- pyramid up actually take this image and brinks makes it twice its size"
   ]
  },
  {
   "cell_type": "markdown",
   "metadata": {},
   "source": [
    "> what will happen is that we are going to get back and image that is exactlythe smae dimensions as the original image but you will see a key difference"
   ]
  },
  {
   "cell_type": "code",
   "execution_count": null,
   "metadata": {},
   "outputs": [],
   "source": [
    "import cv2\n",
    "\n",
    "image = cv2.imread('images/input.jpg')\n",
    "\n",
    "smaller = cv2.pyrDown(image)\n",
    "larger = cv2.pyrUp(smaller)\n",
    "\n",
    "cv2.imshow('Original', image )\n",
    "\n",
    "cv2.imshow('Smaller ', smaller )\n",
    "cv2.imwrite('images/output_smaller.jpg', smaller)\n",
    "\n",
    "cv2.imshow('Larger ', larger )\n",
    "cv2.imwrite('images/output_larger.jpg', larger)\n",
    "\n",
    "cv2.waitKey(0)\n",
    "cv2.destroyAllWindows()"
   ]
  },
  {
   "cell_type": "markdown",
   "metadata": {},
   "source": [
    "### Original image\n",
    "<img src='images/input.jpg'>\n",
    "\n",
    "### After pyramid down\n",
    "<img src='images/output_smaller.jpg'>\n",
    "\n",
    "### After pyramid up back to original size\n",
    "<img src='images/output_larger.jpg'>"
   ]
  },
  {
   "cell_type": "markdown",
   "metadata": {},
   "source": [
    "> The image after pyramid up back to original size is quite blurry, thus indicating that we are losinig pixel informations during the process of pyramiding "
   ]
  },
  {
   "cell_type": "code",
   "execution_count": null,
   "metadata": {
    "collapsed": true
   },
   "outputs": [],
   "source": []
  }
 ],
 "metadata": {
  "kernelspec": {
   "display_name": "Python 3",
   "language": "python",
   "name": "python3"
  },
  "language_info": {
   "codemirror_mode": {
    "name": "ipython",
    "version": 3
   },
   "file_extension": ".py",
   "mimetype": "text/x-python",
   "name": "python",
   "nbconvert_exporter": "python",
   "pygments_lexer": "ipython3",
   "version": "3.6.1"
  }
 },
 "nbformat": 4,
 "nbformat_minor": 1
}
