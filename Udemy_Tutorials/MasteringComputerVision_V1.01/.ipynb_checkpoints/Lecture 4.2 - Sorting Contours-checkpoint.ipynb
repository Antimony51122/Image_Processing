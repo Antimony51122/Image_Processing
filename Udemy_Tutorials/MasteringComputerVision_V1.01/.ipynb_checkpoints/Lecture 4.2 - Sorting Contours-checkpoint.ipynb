{
 "cells": [
  {
   "cell_type": "markdown",
   "metadata": {},
   "source": [
    "## Sorting Contours\n",
    "\n",
    "We can sort contours in many ways.\n",
    "\n",
    "**Sorting bt Area** can assist in Object Recognition (using contour area)\n",
    "- Eliminate small contours that may be noise\n",
    "- Extract the largest contour\n",
    "\n",
    "**Sorting by spatial position (using the contour centroid)**\n",
    "- Sort characters (i.e. handwritten texts) left to right\n",
    "- Process images in specific order"
   ]
  },
  {
   "cell_type": "code",
   "execution_count": 16,
   "metadata": {
    "collapsed": true
   },
   "outputs": [],
   "source": [
    "import cv2\n",
    "import numpy as np"
   ]
  },
  {
   "cell_type": "code",
   "execution_count": 18,
   "metadata": {},
   "outputs": [
    {
     "name": "stdout",
     "output_type": "stream",
     "text": [
      "Number of contours found =  4\n"
     ]
    }
   ],
   "source": [
    "# Load our image\n",
    "image = cv2.imread('images/bunchofshapes.jpg')\n",
    "cv2.imshow('0 - Original Image', image)\n",
    "cv2.waitKey(0)\n",
    "\n",
    "# Create a black image with same dimensions as our loaded image\n",
    "blank_image = np.zeros((image.shape[0], image.shape[1], 3))\n",
    "\n",
    "# Create a copy of our original image\n",
    "orginal_image = image\n",
    "\n",
    "# Grayscale our image\n",
    "gray = cv2.cvtColor(image,cv2.COLOR_BGR2GRAY)\n",
    "\n",
    "# Find Canny edges\n",
    "edged = cv2.Canny(gray, 50, 200)\n",
    "cv2.imshow('1 - Canny Edges', edged)\n",
    "cv2.waitKey(0)\n",
    "cv2.imwrite('images/bunchofshapes_cannyEdges.jpg', edged)\n",
    "\n",
    "# Find contours and print how many were found\n",
    "_, contours, hierarchy = cv2.findContours(edged.copy(), cv2.RETR_EXTERNAL, cv2.CHAIN_APPROX_NONE)\n",
    "print (\"Number of contours found = \", len(contours))\n",
    "\n",
    "#Draw all contours\n",
    "cv2.drawContours(blank_image, contours, -1, (0,255,0), 3)\n",
    "cv2.imshow('2 - All Contours over blank image', blank_image)\n",
    "cv2.waitKey(0)\n",
    "cv2.imwrite('images/bunchofshapes_allContoursOverBlank.jpg', blank_image)\n",
    "\n",
    "# Draw all contours over blank image\n",
    "cv2.drawContours(image, contours, -1, (0,255,0), 3)\n",
    "cv2.imshow('3 - All Contours', image)\n",
    "cv2.waitKey(0)\n",
    "cv2.imwrite('images/bunchofshapes_allContours.jpg', image)\n",
    "\n",
    "cv2.destroyAllWindows()"
   ]
  },
  {
   "cell_type": "markdown",
   "metadata": {},
   "source": [
    "0 - Original Image | 1 - Canny Edges\n",
    "- | - \n",
    "![alt](images/bunchofshapes.jpg) | ![alt](images/bunchofshapes_cannyEdges.jpg)\n",
    "\n",
    "2 - All Contours over blank image | 3 - All Contours\n",
    "- | - \n",
    "![alt](images/bunchofshapes_allContoursOverBlank.jpg) | ![alt](images/bunchofshapes_allContours.jpg)"
   ]
  },
  {
   "cell_type": "markdown",
   "metadata": {},
   "source": [
    "### Let's now sort by area"
   ]
  },
  {
   "cell_type": "code",
   "execution_count": null,
   "metadata": {
    "collapsed": true
   },
   "outputs": [],
   "source": [
    "import cv2\n",
    "import numpy as np"
   ]
  },
  {
   "cell_type": "code",
   "execution_count": 19,
   "metadata": {},
   "outputs": [
    {
     "name": "stdout",
     "output_type": "stream",
     "text": [
      "Contor Areas before sorting [20587.5, 22900.5, 66581.5, 90222.0]\n",
      "Contor Areas after sorting [90222.0, 66581.5, 22900.5, 20587.5]\n",
      "1\n",
      "2\n",
      "3\n",
      "4\n"
     ]
    }
   ],
   "source": [
    "# Function we'll use to display contour area\n",
    "\n",
    "def get_contour_areas(contours):\n",
    "    # returns the areas of all contours as list\n",
    "    all_areas = []\n",
    "    for cnt in contours:\n",
    "        area = cv2.contourArea(cnt)\n",
    "        all_areas.append(area)\n",
    "    return all_areas\n",
    "\n",
    "# Load our image\n",
    "image = cv2.imread('images/bunchofshapes.jpg')\n",
    "original_image = image\n",
    "\n",
    "# Let's print the areas of the contours before sorting\n",
    "print(\"Contor Areas before sorting\", get_contour_areas(contours))\n",
    "\n",
    "# Sort contours large to small\n",
    "sorted_contours = sorted(contours, key=cv2.contourArea, reverse=True)\n",
    "#sorted_contours = sorted(contours, key=cv2.contourArea, reverse=True)[:3]\n",
    "\n",
    "print (\"Contor Areas after sorting\",get_contour_areas(sorted_contours)) \n",
    "\n",
    "# Iterate over our contours and draw one at a time\n",
    "count = 0\n",
    "for c in sorted_contours:\n",
    "    cv2.drawContours(original_image, [c], -1, (255,0,0), 3)\n",
    "    cv2.waitKey(0)\n",
    "    cv2.imshow('Contours by area', original_image)\n",
    "    count += 1\n",
    "    print(count)\n",
    "    cv2.imwrite(\"images/bunchofshapes{num}.jpg\".format(num=count), original_image)\n",
    "\n",
    "cv2.waitKey(0)\n",
    "cv2.destroyAllWindows()"
   ]
  },
  {
   "cell_type": "markdown",
   "metadata": {},
   "source": [
    "Contours by area 1 | Contours by area 2\n",
    "- | - \n",
    "![alt](images/bunchofshapes1.jpg) | ![alt](images/bunchofshapes2.jpg)\n",
    "\n",
    "Contours by area 3 | Contours by area 4\n",
    "- | - \n",
    "![alt](images/bunchofshapes3.jpg) | ![alt](images/bunchofshapes4.jpg)"
   ]
  },
  {
   "cell_type": "code",
   "execution_count": null,
   "metadata": {
    "collapsed": true
   },
   "outputs": [],
   "source": [
    "import cv2\n",
    "import numpy as np"
   ]
  },
  {
   "cell_type": "code",
   "execution_count": 22,
   "metadata": {},
   "outputs": [
    {
     "name": "stdout",
     "output_type": "stream",
     "text": [
      "output_shape_number_1.jpg\n",
      "output_shape_number_2.jpg\n",
      "output_shape_number_3.jpg\n",
      "output_shape_number_4.jpg\n"
     ]
    }
   ],
   "source": [
    "# Functions we'll use for sorting by position\n",
    "\n",
    "def x_cord_contour(contours):\n",
    "    #Returns the X cordinate for the contour centroid\n",
    "    if cv2.contourArea(contours) > 10:\n",
    "        M = cv2.moments(contours)\n",
    "        return (int(M['m10']/M['m00']))\n",
    "    \n",
    "def label_contour_center(image, c):\n",
    "    # Places a red circle on the centers of contours\n",
    "    M = cv2.moments(c)\n",
    "    cx = int(M['m10'] / M['m00'])\n",
    "    cy = int(M['m01'] / M['m00'])\n",
    " \n",
    "    # Draw the countour number on the image\n",
    "    cv2.circle(image,(cx,cy), 10, (0,0,255), -1)\n",
    "    return image\n",
    "\n",
    "# Load our image\n",
    "image = cv2.imread('images/bunchofshapes.jpg')\n",
    "orginal_image = image.copy()\n",
    "\n",
    "# Computer Center of Mass or centroids and draw them on our image\n",
    "for (i, c) in enumerate(contours):\n",
    "    orig = label_contour_center(image, c)\n",
    " \n",
    "cv2.imshow(\"4 - Contour Centers \", image)\n",
    "cv2.waitKey(0)\n",
    "cv2.imwrite(\"images/bunchofshapes_contourCenter.jpg\", image)\n",
    "\n",
    "# Sort by left to right using our x_cord_contour function\n",
    "contours_left_to_right = sorted(contours, key = x_cord_contour, reverse = False)\n",
    "\n",
    "# Labeling Contours left to right\n",
    "for (i,c)  in enumerate(contours_left_to_right):\n",
    "    cv2.drawContours(orginal_image, [c], -1, (0,0,255), 3)  \n",
    "    M = cv2.moments(c)\n",
    "    cx = int(M['m10'] / M['m00'])\n",
    "    cy = int(M['m01'] / M['m00'])\n",
    "    cv2.putText(orginal_image, str(i+1), (cx, cy), cv2.FONT_HERSHEY_SIMPLEX, 1, (0, 255, 0), 2)\n",
    "    cv2.imshow('6 - Left to Right Contour', orginal_image)\n",
    "    cv2.waitKey(0)\n",
    "    (x, y, w, h) = cv2.boundingRect(c)  # boundingRect() crops rectangles that just contain the contours\n",
    "    \n",
    "    # Let's now crop each contour and save these images\n",
    "    cropped_contour = orginal_image[y:y + h, x:x + w]\n",
    "    image_name = \"output_shape_number_\" + str(i+1) + \".jpg\"  # concatenate string names for image output\n",
    "    print(image_name)\n",
    "    cv2.imwrite(image_name, cropped_contour)\n",
    "    \n",
    "cv2.destroyAllWindows()"
   ]
  },
  {
   "cell_type": "markdown",
   "metadata": {},
   "source": [
    "<img src=\"images/bunchofshapes_contourCenter.jpg\">\n",
    "\n",
    "Left to Right Contour 1 | Left to Right Contour 2\n",
    "- | - \n",
    "![alt](images/output_shape_number_1.jpg) | ![alt](images/output_shape_number_2.jpg)\n",
    "\n",
    "Left to Right Contour 3 | Left to Right Contour 4\n",
    "- | - \n",
    "![alt](images/output_shape_number_3.jpg) | ![alt](images/output_shape_number_4.jpg)"
   ]
  },
  {
   "cell_type": "markdown",
   "metadata": {},
   "source": [
    "> - Numbers generated at the top right corner of the center point"
   ]
  }
 ],
 "metadata": {
  "kernelspec": {
   "display_name": "Python 3",
   "language": "python",
   "name": "python3"
  },
  "language_info": {
   "codemirror_mode": {
    "name": "ipython",
    "version": 3
   },
   "file_extension": ".py",
   "mimetype": "text/x-python",
   "name": "python",
   "nbconvert_exporter": "python",
   "pygments_lexer": "ipython3",
   "version": "3.6.1"
  }
 },
 "nbformat": 4,
 "nbformat_minor": 1
}
